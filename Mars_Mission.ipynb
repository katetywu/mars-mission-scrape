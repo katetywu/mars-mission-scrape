{
 "cells": [
  {
   "cell_type": "markdown",
   "metadata": {},
   "source": [
    "# Setting Up"
   ]
  },
  {
   "cell_type": "code",
   "execution_count": 1,
   "metadata": {},
   "outputs": [],
   "source": [
    "from splinter import Browser\n",
    "from bs4 import BeautifulSoup\n",
    "import pandas as pd"
   ]
  },
  {
   "cell_type": "code",
   "execution_count": 2,
   "metadata": {},
   "outputs": [],
   "source": [
    "# Set the executable path and initialize the chrome browser\n",
    "# ------------------------- MAC -----------------------------------\n",
    "executable_path = {'executable_path': '/usr/local/bin/chromedriver'}\n",
    "browser = Browser('chrome', **executable_path, headless=False)\n",
    "\n",
    "# ------------------------- Windows -------------------------------\n",
    "# executable_path = {'executable_path': 'chromedriver.exe'}\n",
    "# browser = Browser('chrome', **executable_path, headless=False)"
   ]
  },
  {
   "cell_type": "markdown",
   "metadata": {},
   "source": [
    "# NASA Mars News Sites"
   ]
  },
  {
   "cell_type": "code",
   "execution_count": 3,
   "metadata": {},
   "outputs": [],
   "source": [
    "# Visit NASA Mars news site\n",
    "marsNews = \"https://mars.nasa.gov/news/\"\n",
    "browser.visit(marsNews)"
   ]
  },
  {
   "cell_type": "code",
   "execution_count": 4,
   "metadata": {},
   "outputs": [
    {
     "name": "stdout",
     "output_type": "stream",
     "text": [
      "MOXIE Could Help Future Rockets Launch Off Mars\n",
      "-------\n",
      "NASA's Perseverance rover carries a device to convert Martian air into oxygen that, if produced on a larger scale, could be used not just for breathing, but also for fuel.\n"
     ]
    }
   ],
   "source": [
    "html = browser.html\n",
    "soupNews = BeautifulSoup(html, 'html.parser')\n",
    "\n",
    "# Get everything about slide element\n",
    "slideElement = soupNews.select_one('ul.item_list li.slide')\n",
    "\n",
    "# Use the parent element to find the first <a> tag and save it as news title\n",
    "newsTitle = slideElement.find('div', class_='content_title').get_text()\n",
    "newsPara = slideElement.find('div', class_='article_teaser_body').get_text()\n",
    "print(newsTitle)\n",
    "print(\"-------\")\n",
    "print(newsPara)"
   ]
  },
  {
   "cell_type": "markdown",
   "metadata": {},
   "source": [
    "# JPL Space Featured Image"
   ]
  },
  {
   "cell_type": "code",
   "execution_count": null,
   "metadata": {},
   "outputs": [],
   "source": [
    "JPLImage = \"https://www.jpl.nasa.gov/spaceimages/?search=&category=Mars\"\n",
    "browser.visit(JPLImage)"
   ]
  },
  {
   "cell_type": "code",
   "execution_count": null,
   "metadata": {},
   "outputs": [],
   "source": [
    "# Ask splinter to click a button on the site with class name full_image\n",
    "# <button class=\"full_image\">Full Image</button>\n",
    "fullImgButton = browser.find_by_id('full_image')\n",
    "fullImgButton.click()"
   ]
  },
  {
   "cell_type": "code",
   "execution_count": null,
   "metadata": {},
   "outputs": [],
   "source": [
    "# Find the more button and click it\n",
    "# wait_time: giving splinter 1s to delay\n",
    "browser.is_element_present_by_text('more info', wait_time=1)\n",
    "moreInfoElement = browser.links.find_by_partial_text('more info')\n",
    "moreInfoElement.click()"
   ]
  },
  {
   "cell_type": "code",
   "execution_count": null,
   "metadata": {},
   "outputs": [],
   "source": [
    "html = browser.html\n",
    "soupImage = BeautifulSoup(html, 'html.parser')\n",
    "\n",
    "imgURL = soupImage.select_one('figure.lede a img').get('src')\n",
    "imgURL = f\"https://www.jpl.nasa.gov{imgURL}\"\n",
    "print(imgURL)"
   ]
  },
  {
   "cell_type": "markdown",
   "metadata": {},
   "source": [
    "# Mars Facts"
   ]
  },
  {
   "cell_type": "code",
   "execution_count": null,
   "metadata": {
    "scrolled": true
   },
   "outputs": [],
   "source": [
    "marsFacts = \"https://space-facts.com/mars/\"\n",
    "df = pd.read_html(marsFacts)[0]\n",
    "df.columns=['Description', 'Value']\n",
    "df.set_index('Description', inplace=True)\n",
    "df"
   ]
  },
  {
   "cell_type": "code",
   "execution_count": null,
   "metadata": {},
   "outputs": [],
   "source": [
    "df.to_html()"
   ]
  },
  {
   "cell_type": "markdown",
   "metadata": {},
   "source": [
    "# Mars Hemisphere"
   ]
  },
  {
   "cell_type": "code",
   "execution_count": null,
   "metadata": {},
   "outputs": [],
   "source": [
    "marsHemis = \"https://astrogeology.usgs.gov/search/results?q=hemisphere+enhanced&k1=target&v1=Mars\"\n",
    "browser.visit(marsHemis)"
   ]
  },
  {
   "cell_type": "code",
   "execution_count": null,
   "metadata": {
    "scrolled": true
   },
   "outputs": [],
   "source": [
    "hemisImageURL = []\n",
    "\n",
    "# Get a list of all the hemispheres\n",
    "links = browser.find_by_css(\"a.itemLink h3\")\n",
    "for item in range(len(links)):\n",
    "    hemis = {}\n",
    "    \n",
    "    # Find the element on each loop to avoid a stale element exception\n",
    "    browser.find_by_css('a.itemLink h3')[item].click()\n",
    "    \n",
    "    # Find sample image anchor tag and extract the href\n",
    "    sampleElement = browser.links.find_by_text('Sample').first\n",
    "    hemis['img_url'] = sampleElement['href']\n",
    "    \n",
    "    # Get hemisphere titles\n",
    "    hemis['title'] = browser.find_by_css('h2.title').text\n",
    "    \n",
    "    # Append hemisphere object to list\n",
    "    hemisImageURL.append(hemis)\n",
    "    \n",
    "    # Navigate backwards\n",
    "    browser.back()\n",
    "\n",
    "print(hemisImageURL)"
   ]
  },
  {
   "cell_type": "markdown",
   "metadata": {},
   "source": [
    "# Mars Weather"
   ]
  },
  {
   "cell_type": "code",
   "execution_count": null,
   "metadata": {},
   "outputs": [],
   "source": [
    "# html = browser.html\n",
    "# soupWeather = BeautifulSoup(html, 'html.parser')\n",
    "\n",
    "# Find a tweet with the data-name 'Mars Weather'\n",
    "# marsWeatherTweet = soupWeather.find('div', \n",
    "#                                attrs={\"class\": \"tweet\", \n",
    "#                                       \"data-name\": \"Mars Weather\"}\n",
    "\n",
    "# # Search within the tweet for <p> tag containing the tweet text\n",
    "# marsWeather = marsWeatherTweet.find('p', 'tweet-text').get_text()"
   ]
  },
  {
   "cell_type": "markdown",
   "metadata": {},
   "source": [
    "# Closing the Browser"
   ]
  },
  {
   "cell_type": "code",
   "execution_count": null,
   "metadata": {},
   "outputs": [],
   "source": [
    "browser.quit()"
   ]
  },
  {
   "cell_type": "code",
   "execution_count": null,
   "metadata": {},
   "outputs": [],
   "source": []
  }
 ],
 "metadata": {
  "kernelspec": {
   "display_name": "Python 3",
   "language": "python",
   "name": "python3"
  },
  "language_info": {
   "codemirror_mode": {
    "name": "ipython",
    "version": 3
   },
   "file_extension": ".py",
   "mimetype": "text/x-python",
   "name": "python",
   "nbconvert_exporter": "python",
   "pygments_lexer": "ipython3",
   "version": "3.6.10"
  }
 },
 "nbformat": 4,
 "nbformat_minor": 2
}
